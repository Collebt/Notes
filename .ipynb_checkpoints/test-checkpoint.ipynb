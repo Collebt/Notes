{
 "cells": [
  {
   "cell_type": "markdown",
   "metadata": {},
   "source": [
    "# 图网络模型\n",
    "## GCN基于谱卷积\n",
    "## GAT基于空域卷积\n"
   ]
  },
  {
   "cell_type": "markdown",
   "metadata": {},
   "source": [
    "## GCN是Transductiv的原因？\n",
    "GCN是基于**固定的图**进行计算的，\n",
    "- 原因：GCN是基于*谱卷积* > 把图的邻接矩阵构成拉普拉斯矩阵，对拉普拉斯矩阵进行特征分解，网络对特征值进行卷积，而特征向量不变。但一旦增加节点，拉普拉斯矩阵的特征向量就会发生变化，导致GCN学习到的模型参数作用在特征值上失去意义。也就是无法“活学或用”，卷积网络学习到的是固定的图中特征向量的\n",
    "适用的场合是没有新增的节点，如\n",
    "\n",
    "- GAT网络是基于空域，训练的中心节点和周围节点的“聚合方式”。节点分享相同的卷积参数，增加节点不会影响已有的训练效果，所以在测试集的节点变化时也能够适用。\n",
    "\n",
    "\n"
   ]
  },
  {
   "cell_type": "markdown",
   "metadata": {},
   "source": [
    "## 图论的特征值和特征向量 \n",
    "\n",
    "- 相互连接的节点构成一张**图**， 包含所有点构成的集合$V$和所有边的集合$E$。\n",
    "\n",
    "1. 图论下的函数\n",
    "    - 对于实数上的函数$y=f(x)$,代表了对$x$的映射，把所有$x\\in X$映射到对应的$y\\in Y$上，即$f :X\\rightarrow Y$\n",
    "    - 对于图函数，定义$F_G: V \\rightarrow R$, 把所有节点$v \\in V$映射到一个实数$R$上。\n",
    "    \n",
    "2. 图函数的梯度\n",
    "    - 梯度的意义是函数在每个**正交方向**上的变化，定义函数的梯度为$\\nabla f(x) = \\frac{\\partial f }{\\partial x}$  其中在一个方向$x$上的梯度分量为$\\frac{\\partial f(x)}{\\partial x} = \\frac{f(x+ dx)-f(x)}{ dx}$， 分子是计算的两个点函数值$f$之间的差值，分母为两点之间的距离。\n",
    "    - 在图论中，每个节点之间有边相连，我们认为**一个节点的每一条边都相互正交**，那么我们可以按照实数域函数的方式计算图的梯度，定义函数$F_G(v):V  \\rightarrow R$"
   ]
  },
  {
   "cell_type": "markdown",
   "metadata": {},
   "source": [
    "## 拉普拉斯矩阵\n",
    "- 拉普拉斯算子是梯度的散度。\n",
    "$L= D-A$"
   ]
  },
  {
   "cell_type": "markdown",
   "metadata": {},
   "source": [
    "http://playground.tensorflow.org/#activation=relu&regularization=L2&batchSize=30&dataset=spiral&regDataset=reg-gauss&learningRate=0.1&regularizationRate=0.003&noise=5&networkShape=7,5,3,5,7,8&seed=0.86391&showTestData=false&discretize=true&percTrainData=80&x=true&y=true&xTimesY=true&xSquared=true&ySquared=true&cosX=false&sinX=true&cosY=false&sinY=true&collectStats=false&problem=classification&initZero=false&hideText=false"
   ]
  }
 ],
 "metadata": {
  "kernelspec": {
   "display_name": "Python 3",
   "language": "python",
   "name": "python3"
  },
  "language_info": {
   "codemirror_mode": {
    "name": "ipython",
    "version": 3
   },
   "file_extension": ".py",
   "mimetype": "text/x-python",
   "name": "python",
   "nbconvert_exporter": "python",
   "pygments_lexer": "ipython3",
   "version": "3.7.6"
  }
 },
 "nbformat": 4,
 "nbformat_minor": 2
}
