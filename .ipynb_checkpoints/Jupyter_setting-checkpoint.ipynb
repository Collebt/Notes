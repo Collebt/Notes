{
 "cells": [
  {
   "cell_type": "markdown",
   "metadata": {},
   "source": [
    "# 安装和配置jupter notebook的一些问题 test2\n"
   ]
  },
  {
   "cell_type": "markdown",
   "metadata": {},
   "source": [
    "## 安装jupyter notebook\n",
    "1. 在ubuntu终端中`pip install jupyter`\n",
    "    - 启动jupyter notebook `jupyter notebook`\n",
    "    - 查看帮助`jupyter notebook --help` 或者 `jupyter notebook -h`"
   ]
  },
  {
   "cell_type": "markdown",
   "metadata": {},
   "source": [
    "## 配置初始目录和工作空间\n",
    "\n",
    "---"
   ]
  },
  {
   "cell_type": "markdown",
   "metadata": {},
   "source": [
    " 1. 获取配置文件所在路径：输入`jupyter notebook --generate-config`,找到配置文件\n",
    " 2. 打开配置文件: 输入`vim ~/.jupyter/jupyter_notebook_config.py`"
   ]
  },
  {
   "cell_type": "markdown",
   "metadata": {},
   "source": [
    "## 扩展功能\n",
    "### Conda环境方便在Jupyter Notebook的使用中，在不同的环境下创建笔记本进行工作。\n",
    "1. Conda页面以及其配置\n",
    "    - Conda页面主要是Jupyter Notebook与Conda关联之后对Conda环境和包进行直接操作和管理的页面工具\n",
    "  \n",
    "  \n",
    "2. 关联Jupyter Notebook和conda的环境和包\n",
    "    - 输入`conda install nb_conda`\n",
    "    - 可以在Conda类目下对conda环境和包进行一系列操作。\n",
    "3. 将已经安装的环境放入Jupyter kernel中\n",
    " > 我是之前就已经安装了各种conda环境，后面才使用的jupyter，所以会遇到切换的内核没有以前的内核（kernel），即使在notebook的conda页面下看到我已安装的环境，但跑程序的时候还是无法切换，并且会报`No Moduel name torch`这种错误(一定要切换到那个环境中，否则即使按照下面步骤做，只能创建一个相同名字，但不包含模块的内核)。\n",
    "    - 在终端切换到想要切换的环境`<env_name>`： 输入`conda activate <env_name>`\n",
    "    - 安装ipykernel包 ： `python -m pip install ipykernel`\n",
    "    - 把已有内核`<env_name>`添加到jupyter中：\n",
    "        输入`install --user --name <env_name> --display-name \"自定义名称\"`\n",
    "    \n",
    "    "
   ]
  },
  {
   "cell_type": "markdown",
   "metadata": {},
   "source": [
    "## 报错以及解决方法\n",
    "\n",
    "1. 提示“no module named ipython-core”\n",
    "    - 解决方法：输入`pip install ipython --ignore-installed ipython`\n",
    "\n",
    "\n",
    "2. 报错“no module named *** “\n",
    "    - 解决方法： pip 安装对应的模块\n"
   ]
  },
  {
   "cell_type": "markdown",
   "metadata": {},
   "source": [
    "## conference\n",
    "https://www.jianshu.com/p/91365f343585#conda\n"
   ]
  }
 ],
 "metadata": {
  "kernelspec": {
   "display_name": "pytorch",
   "language": "python",
   "name": "pytorch"
  },
  "language_info": {
   "codemirror_mode": {
    "name": "ipython",
    "version": 3
   },
   "file_extension": ".py",
   "mimetype": "text/x-python",
   "name": "python",
   "nbconvert_exporter": "python",
   "pygments_lexer": "ipython3",
   "version": "3.6.2"
  }
 },
 "nbformat": 4,
 "nbformat_minor": 4
}
